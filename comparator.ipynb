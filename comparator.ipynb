{
 "cells": [
  {
   "cell_type": "code",
   "execution_count": 1,
   "id": "a979d8fd",
   "metadata": {},
   "outputs": [],
   "source": [
    "import datumaro"
   ]
  },
  {
   "cell_type": "code",
   "execution_count": 4,
   "id": "4fd80fef",
   "metadata": {},
   "outputs": [],
   "source": [
    "from datumaro.components.dataset import Dataset"
   ]
  },
  {
   "cell_type": "code",
   "execution_count": 6,
   "id": "7cfc8bbe",
   "metadata": {
    "scrolled": false
   },
   "outputs": [
    {
     "name": "stdout",
     "output_type": "stream",
     "text": [
      "+-----------------+------------------------------+-----------------------------+\n",
      "|  Datum compare  |         src_dataset          |         tgt_dataset         |\n",
      "+=================+==============================+=============================+\n",
      "| import path     |      /home/jeom/datum-       |      /home/jeom/datum-      |\n",
      "|                 |   ws/datumaro/data/cifar10   |   ws/datumaro/data/mnist    |\n",
      "+-----------------+------------------------------+-----------------------------+\n",
      "| data format     |            cifar             |            mnist            |\n",
      "+-----------------+------------------------------+-----------------------------+\n",
      "| # of data       |              50              |             20              |\n",
      "+-----------------+------------------------------+-----------------------------+\n",
      "|                 |       ['data_batch_1',       |                             |\n",
      "|                 |       'data_batch_2',        |                             |\n",
      "| subset          |       'data_batch_3',        |      ['test', 'train']      |\n",
      "|                 |       'data_batch_4',        |                             |\n",
      "|                 |       'data_batch_5']        |                             |\n",
      "+-----------------+------------------------------+-----------------------------+\n",
      "| subset size     |     [10, 10, 10, 10, 10]     |          [10, 10]           |\n",
      "+-----------------+------------------------------+-----------------------------+\n",
      "|                 |  ['airplane', 'automobile',  |                             |\n",
      "| categories      |    'bird', 'cat', 'deer',    |  ['0', '1', '2', '3', '4',  |\n",
      "|                 |   'dog', 'frog', 'horse',    |  '5', '6', '7', '8', '9']   |\n",
      "|                 |       'ship', 'truck']       |                             |\n",
      "+-----------------+------------------------------+-----------------------------+\n",
      "| annotation type | [<AnnotationType.label: 1>]  | [<AnnotationType.label: 1>] |\n",
      "+-----------------+------------------------------+-----------------------------+\n"
     ]
    }
   ],
   "source": [
    "from texttable import Texttable\n",
    "\n",
    "def get_dataset_info(dataset):\n",
    "    return [\n",
    "        len(dataset._data),\n",
    "        dataset._source_path,\n",
    "        dataset.media_type(),\n",
    "        dataset.get_annotated_items(),\n",
    "        dataset.get_annotations(),\n",
    "        \"\\n\".join(dataset.get_subset_info()),\n",
    "        \"\\n\".join(dataset.get_infos()),\n",
    "        \"\\n\".join(dataset.get_categories_info())\n",
    "    ]\n",
    "\n",
    "\n",
    "src_path = \"/home/jeom/datum-ws/datumaro/data/cifar10\"\n",
    "tgt_path = \"/home/jeom/datum-ws/datumaro/data/mnist\"\n",
    "\n",
    "src_dataset = Dataset.import_from(src_path)\n",
    "tgt_dataset = Dataset.import_from(tgt_path)\n",
    "\n",
    "src_subsets = sorted(src_dataset.subsets().keys())\n",
    "tgt_subsets = sorted(tgt_dataset.subsets().keys())\n",
    "\n",
    "def create_comparison_table(src_dataset, tgt_dataset):\n",
    "    table = Texttable()\n",
    "    table.set_cols_align([\"l\", \"c\", \"c\"])\n",
    "    table.set_cols_valign([\"m\", \"m\", \"m\"])\n",
    "    table.add_rows([\n",
    "        [\"Datum compare\", \"src_dataset\", \"tgt_dataset\"],\n",
    "        [\"import path\", src_path, tgt_path],\n",
    "        [\"data format\", src_dataset.format, tgt_dataset.format],\n",
    "        [\"# of data\", len(src_dataset), len(tgt_dataset)],\n",
    "        [\"subset\", sorted(src_dataset.subsets().keys()),\n",
    "                   sorted(tgt_dataset.subsets().keys())],\n",
    "        [\"subset size\", [len(src_dataset.get_subset(s)) for s in src_subsets], \n",
    "                        [len(tgt_dataset.get_subset(s)) for s in tgt_subsets]],\n",
    "        [\"categories\", [item.name for item in list(src_dataset.categories().values())[0].items],\n",
    "                       [item.name for item in list(tgt_dataset.categories().values())[0].items]],\n",
    "        [\"annotation type\", [list(src_dataset.categories().keys())[0]],\n",
    "                            [list(src_dataset.categories().keys())[0]]],\n",
    "#         [\"label distribution\", cls_val.compute_statistics(src_dataset)['label_distribution'],\n",
    "#                                cls_val.compute_statistics(src_dataset)['label_distribution']]\n",
    "\n",
    "    ])\n",
    "    return table.draw()\n",
    "\n",
    "print(create_comparison_table(src_dataset, tgt_dataset))\n"
   ]
  },
  {
   "cell_type": "code",
   "execution_count": 35,
   "id": "08c0a879",
   "metadata": {},
   "outputs": [
    {
     "name": "stdout",
     "output_type": "stream",
     "text": [
      "data path\n",
      "/home/jeom/datum-ws/datumaro/data/cifar10\n",
      "\n",
      "data format\n",
      "cifar\n",
      "\n",
      "image\n",
      "{'dataset': {'images count': 50, 'unique images count': 50, 'repeated images count': 0, 'repeated images': []}, 'subsets': {'data_batch_5': {'images count': 10, 'image mean': [113.0396728515626, 120.70520019531253, 127.95635986328122], 'image std': [62.67480968003201, 57.52452272613527, 55.33193741534145]}, 'data_batch_2': {'images count': 10, 'image mean': [133.0299682617188, 140.6387939453124, 148.81463623046875], 'image std': [67.88731946781247, 64.84952813588434, 64.10208104112289]}, 'data_batch_4': {'images count': 10, 'image mean': [117.80895996093749, 125.73950195312493, 130.8768310546875], 'image std': [66.79783557606551, 59.63731010805518, 61.639642862833036]}, 'data_batch_3': {'images count': 10, 'image mean': [130.73168945312506, 136.8297119140625, 136.37158203125003], 'image std': [72.0621149322653, 71.17281956571303, 72.0073115111266]}, 'data_batch_1': {'images count': 10, 'image mean': [128.706726074219, 140.37866210937523, 140.09802246093764], 'image std': [72.68206456447864, 63.59129828656069, 64.51142238667815]}}}\n",
      "\n",
      "ann\n",
      "{'images count': 50, 'annotations count': 50, 'unannotated images count': 0, 'unannotated images': [], 'annotations by type': {'unknown': {'count': 0}, 'label': {'count': 50}, 'mask': {'count': 0}, 'points': {'count': 0}, 'polygon': {'count': 0}, 'polyline': {'count': 0}, 'bbox': {'count': 0}, 'caption': {'count': 0}, 'cuboid_3d': {'count': 0}, 'super_resolution_annotation': {'count': 0}, 'depth_annotation': {'count': 0}, 'ellipse': {'count': 0}, 'hash_key': {'count': 0}}, 'annotations': {'labels': {'count': 50, 'distribution': {'airplane': [5, 0.1], 'automobile': [5, 0.1], 'bird': [5, 0.1], 'cat': [5, 0.1], 'deer': [5, 0.1], 'dog': [5, 0.1], 'frog': [5, 0.1], 'horse': [5, 0.1], 'ship': [5, 0.1], 'truck': [5, 0.1]}, 'attributes': {}}, 'segments': {'avg. area': 0.0, 'area distribution': [], 'pixel distribution': {'airplane': [0, 0.0], 'automobile': [0, 0.0], 'bird': [0, 0.0], 'cat': [0, 0.0], 'deer': [0, 0.0], 'dog': [0, 0.0], 'frog': [0, 0.0], 'horse': [0, 0.0], 'ship': [0, 0.0], 'truck': [0, 0.0]}}}}\n",
      "\n",
      "class\n",
      "(set(), {'frog', 'ship', 'automobile', 'cat', 'horse', 'deer', 'truck', 'dog', 'bird', 'airplane'}, {'7', '6', '3', '1', '9', '0', '8', '2', '4', '5'})\n"
     ]
    }
   ],
   "source": [
    "from datumaro.components.operations import compute_image_statistics, compute_ann_statistics, match_classes\n",
    "print(\"data path\")\n",
    "print(src_path)\n",
    "print()\n",
    "print(\"data format\")\n",
    "print(src_dataset.format)\n",
    "print()\n",
    "print(\"image\")\n",
    "print(compute_image_statistics(src_dataset))\n",
    "print()\n",
    "print(\"ann\")\n",
    "print(compute_ann_statistics(src_dataset))\n",
    "print()\n",
    "print(\"class\")\n",
    "print(match_classes(src_dataset.categories(), tgt_dataset.categories())) # returns matched, src cls, det_cls"
   ]
  },
  {
   "cell_type": "code",
   "execution_count": 36,
   "id": "4a1ba63d",
   "metadata": {},
   "outputs": [
    {
     "name": "stdout",
     "output_type": "stream",
     "text": [
      "data path\n",
      "/home/jeom/datum-ws/datumaro/data/mnist\n",
      "\n",
      "data format\n",
      "mnist\n",
      "\n",
      "image\n",
      "{'dataset': {'images count': 20, 'unique images count': 20, 'repeated images count': 0, 'repeated images': []}, 'subsets': {'test': {'images count': 10, 'image mean': [42.84390943877554, 42.84390943877554, 42.84390943877554], 'image std': [85.20780771019935, 85.20780771019935, 85.20780771019935]}, 'train': {'images count': 10, 'image mean': [29.43263711734697, 29.43263711734697, 29.43263711734697], 'image std': [72.02919302871828, 72.02919302871828, 72.02919302871828]}}}\n",
      "\n",
      "ann\n",
      "{'images count': 20, 'annotations count': 20, 'unannotated images count': 0, 'unannotated images': [], 'annotations by type': {'unknown': {'count': 0}, 'label': {'count': 20}, 'mask': {'count': 0}, 'points': {'count': 0}, 'polygon': {'count': 0}, 'polyline': {'count': 0}, 'bbox': {'count': 0}, 'caption': {'count': 0}, 'cuboid_3d': {'count': 0}, 'super_resolution_annotation': {'count': 0}, 'depth_annotation': {'count': 0}, 'ellipse': {'count': 0}, 'hash_key': {'count': 0}}, 'annotations': {'labels': {'count': 20, 'distribution': {'0': [2, 0.1], '1': [2, 0.1], '2': [2, 0.1], '3': [2, 0.1], '4': [2, 0.1], '5': [2, 0.1], '6': [2, 0.1], '7': [2, 0.1], '8': [2, 0.1], '9': [2, 0.1]}, 'attributes': {}}, 'segments': {'avg. area': 0.0, 'area distribution': [], 'pixel distribution': {'0': [0, 0.0], '1': [0, 0.0], '2': [0, 0.0], '3': [0, 0.0], '4': [0, 0.0], '5': [0, 0.0], '6': [0, 0.0], '7': [0, 0.0], '8': [0, 0.0], '9': [0, 0.0]}}}}\n",
      "\n",
      "class\n",
      "(set(), {'frog', 'ship', 'automobile', 'cat', 'horse', 'deer', 'truck', 'dog', 'bird', 'airplane'}, {'7', '6', '3', '1', '9', '0', '8', '2', '4', '5'})\n"
     ]
    }
   ],
   "source": [
    "from datumaro.components.operations import compute_image_statistics, compute_ann_statistics, match_classes\n",
    "print(\"data path\")\n",
    "print(tgt_path)\n",
    "print()\n",
    "print(\"data format\")\n",
    "print(tgt_dataset.format)\n",
    "print()\n",
    "print(\"image\")\n",
    "print(compute_image_statistics(tgt_dataset))\n",
    "print()\n",
    "print(\"ann\")\n",
    "print(compute_ann_statistics(tgt_dataset))\n",
    "print()\n",
    "print(\"class\")\n",
    "print(match_classes(src_dataset.categories(), tgt_dataset.categories())) # returns matched, src cls, det_cls"
   ]
  },
  {
   "cell_type": "code",
   "execution_count": 63,
   "id": "40bfdc0e",
   "metadata": {},
   "outputs": [
    {
     "name": "stdout",
     "output_type": "stream",
     "text": [
      "+------------------------------------------+------------------------------------------+\n",
      "|                Data Info                 |                  Value                   |\n",
      "+==========================================+==========================================+\n",
      "| Data Path                                | /home/jeom/datum-                        |\n",
      "|                                          | ws/datumaro/data/cifar10                 |\n",
      "+------------------------------------------+------------------------------------------+\n",
      "| Data Format                              | cifar                                    |\n",
      "+------------------------------------------+------------------------------------------+\n",
      "+----------------------+----------------------+----------------------+----------------------+\n",
      "|        Subset        |     Images Count     |      Image Mean      |      Image Std       |\n",
      "+======================+======================+======================+======================+\n",
      "| data_batch_5         | 10                   | [113.0, 120.0,       | [62.0, 57.0, 55.0]   |\n",
      "|                      |                      | 127.0]               |                      |\n",
      "+----------------------+----------------------+----------------------+----------------------+\n",
      "| data_batch_2         | 10                   | [133.0, 140.0,       | [67.0, 64.0, 64.0]   |\n",
      "|                      |                      | 148.0]               |                      |\n",
      "+----------------------+----------------------+----------------------+----------------------+\n",
      "| data_batch_4         | 10                   | [117.0, 125.0,       | [66.0, 59.0, 61.0]   |\n",
      "|                      |                      | 130.0]               |                      |\n",
      "+----------------------+----------------------+----------------------+----------------------+\n",
      "| data_batch_3         | 10                   | [130.0, 136.0,       | [72.0, 71.0, 72.0]   |\n",
      "|                      |                      | 136.0]               |                      |\n",
      "+----------------------+----------------------+----------------------+----------------------+\n",
      "| data_batch_1         | 10                   | [128.0, 140.0,       | [72.0, 63.0, 64.0]   |\n",
      "|                      |                      | 140.0]               |                      |\n",
      "+----------------------+----------------------+----------------------+----------------------+\n",
      "+----------------------+----------------------+----------------------+----------------------+\n",
      "|     Images Count     |  Annotations Count   |  Unannotated Images  |     Label Count      |\n",
      "|                      |                      |        Count         |                      |\n",
      "+======================+======================+======================+======================+\n",
      "| 20                   | 20                   | 0                    | 20                   |\n",
      "+----------------------+----------------------+----------------------+----------------------+\n",
      "+---------+----------------------------------+---------------------------------+\n",
      "| Matched |          Source Classes          |         Target Classes          |\n",
      "+=========+==================================+=================================+\n",
      "| 20      | 20                               | 20                              |\n",
      "+---------+----------------------------------+---------------------------------+\n",
      "| set()   | {'frog', 'ship', 'automobile',   | {'7', '6', '3', '1', '9', '0',  |\n",
      "|         | 'cat', 'horse', 'deer', 'truck', | '8', '2', '4', '5'}             |\n",
      "|         | 'dog', 'bird', 'airplane'}       |                                 |\n",
      "+---------+----------------------------------+---------------------------------+\n"
     ]
    }
   ],
   "source": [
    "from texttable import Texttable\n",
    "\n",
    "# Data Path and Format\n",
    "data_path_format_table = Texttable(max_width=0)\n",
    "data_path_format_table.set_cols_width([40, 40])\n",
    "\n",
    "data_path_format_table.header([\"Data Info\", \"Value\"])\n",
    "data_path_format_table.add_row([\"Data Path\", \"/home/jeom/datum-ws/datumaro/data/cifar10\"])\n",
    "data_path_format_table.add_row([\"Data Format\", \"cifar\"])\n",
    "print(data_path_format_table.draw())\n",
    "\n",
    "# Image Statistics\n",
    "image_statistics_table = Texttable(max_width=10)\n",
    "image_statistics_table.set_cols_width([20, 20, 20, 20])\n",
    "image_statistics_table.header([\"Subset\", \"Images Count\", \"Image Mean\", \"Image Std\"])\n",
    "image_statistics_table.add_row([\"data_batch_5\", 10, [113., 120., 127.], [62., 57., 55.]])\n",
    "image_statistics_table.add_row([\"data_batch_2\", 10, [133., 140., 148.], [67., 64., 64.]])\n",
    "image_statistics_table.add_row([\"data_batch_4\", 10, [117., 125., 130.], [66., 59., 61.]])\n",
    "image_statistics_table.add_row([\"data_batch_3\", 10, [130., 136., 136.], [72., 71., 72.]])\n",
    "image_statistics_table.add_row([\"data_batch_1\", 10, [128., 140., 140.], [72., 63., 64.]])\n",
    "print(image_statistics_table.draw())\n",
    "\n",
    "# Annotation Statistics\n",
    "ann_statistics_table = Texttable()\n",
    "ann_statistics_table.set_cols_width([20, 20, 20, 20])\n",
    "\n",
    "ann_statistics_table.header([\"Images Count\", \"Annotations Count\", \"Unannotated Images Count\", \"Label Count\"])\n",
    "ann_statistics_table.add_row([20, 20, 0, 20])\n",
    "print(ann_statistics_table.draw())\n",
    "\n",
    "# Class Match\n",
    "class_match_table = Texttable()\n",
    "class_match_table.add_row([20, 20, 20])\n",
    "\n",
    "class_match_table.header([\"Matched\", \"Source Classes\", \"Target Classes\"])\n",
    "class_match_table.add_row([\"set()\", \"{'frog', 'ship', 'automobile', 'cat', 'horse', 'deer', 'truck', 'dog', 'bird', 'airplane'}\", \"{'7', '6', '3', '1', '9', '0', '8', '2', '4', '5'}\"])\n",
    "print(class_match_table.draw())\n"
   ]
  },
  {
   "cell_type": "code",
   "execution_count": 64,
   "id": "de38b11b",
   "metadata": {},
   "outputs": [],
   "source": [
    "from datumaro.components.shift_analyzer import ShiftAnalyzer"
   ]
  },
  {
   "cell_type": "code",
   "execution_count": 65,
   "id": "84d984b6",
   "metadata": {},
   "outputs": [],
   "source": [
    "shift = ShiftAnalyzer()"
   ]
  },
  {
   "cell_type": "code",
   "execution_count": 68,
   "id": "82759c73",
   "metadata": {},
   "outputs": [
    {
     "data": {
      "text/plain": [
       "0.032947380761906064"
      ]
     },
     "execution_count": 68,
     "metadata": {},
     "output_type": "execute_result"
    }
   ],
   "source": [
    "shift.compute_covariate_shift([src_dataset, tgt_dataset], method=\"emd\")"
   ]
  },
  {
   "cell_type": "code",
   "execution_count": 67,
   "id": "3efb23ae",
   "metadata": {},
   "outputs": [
    {
     "name": "stderr",
     "output_type": "stream",
     "text": [
      "WARNING:accuracy_checker:/home/jeom/datum-ws/datumaro/datumaro/components/shift_analyzer.py:166: UserWarning: p-value capped: true value larger than 0.25\n",
      "  _, _, pv = anderson_ksamp([labels[0], labels[1]])\n",
      "\n"
     ]
    },
    {
     "data": {
      "text/plain": [
       "0.75"
      ]
     },
     "execution_count": 67,
     "metadata": {},
     "output_type": "execute_result"
    }
   ],
   "source": [
    "shift.compute_label_shift([src_dataset, tgt_dataset])"
   ]
  },
  {
   "cell_type": "code",
   "execution_count": null,
   "id": "90cae9ee",
   "metadata": {},
   "outputs": [],
   "source": []
  }
 ],
 "metadata": {
  "kernelspec": {
   "display_name": "datumaro",
   "language": "python",
   "name": "datumaro"
  },
  "language_info": {
   "codemirror_mode": {
    "name": "ipython",
    "version": 3
   },
   "file_extension": ".py",
   "mimetype": "text/x-python",
   "name": "python",
   "nbconvert_exporter": "python",
   "pygments_lexer": "ipython3",
   "version": "3.10.11"
  }
 },
 "nbformat": 4,
 "nbformat_minor": 5
}
