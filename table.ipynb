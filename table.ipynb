{
 "cells": [
  {
   "cell_type": "code",
   "execution_count": 1,
   "id": "6f9a15c1",
   "metadata": {},
   "outputs": [],
   "source": [
    "import pandas as pd\n",
    "import numpy as np"
   ]
  },
  {
   "cell_type": "code",
   "execution_count": 25,
   "id": "ab93d19f",
   "metadata": {},
   "outputs": [
    {
     "name": "stdout",
     "output_type": "stream",
     "text": [
      "+-----------------+---------------------------+---------------------------+\n",
      "| Datum compare   | src_dataset               | tgt_dataset               |\n",
      "+=================+===========================+===========================+\n",
      "| # of data       | 27000                     | 2100                      |\n",
      "+-----------------+---------------------------+---------------------------+\n",
      "| # categories    | 10                        | 8                         |\n",
      "+-----------------+---------------------------+---------------------------+\n",
      "| annotation_type | label                     | label                     |\n",
      "+-----------------+---------------------------+---------------------------+\n",
      "| label           | ['AnnualCrop', ' Forest'] | ['asd', 'bec']            |\n",
      "+-----------------+---------------------------+---------------------------+\n",
      "| subset_train    | 10000                     | 1500                      |\n",
      "+-----------------+---------------------------+---------------------------+\n",
      "| subset_val      | 12000                     | 300                       |\n",
      "+-----------------+---------------------------+---------------------------+\n",
      "| subset_test     | 5000                      |                           |\n",
      "+-----------------+---------------------------+---------------------------+\n",
      "| img_mean        | [123.675, 116.28, 103.53] | [119.325, 121.58, 104.53] |\n",
      "+-----------------+---------------------------+---------------------------+\n",
      "| img_std         | [58.395, 57.12, 57.375]   | [53.124, 56.12, 69.3685]  |\n",
      "+-----------------+---------------------------+---------------------------+\n"
     ]
    }
   ],
   "source": [
    "import numpy as np\n",
    "import pandas as pd\n",
    "from tabulate import tabulate\n",
    "\n",
    "A = pd.DataFrame([[27000, 2100],\n",
    "                 [10, 8],\n",
    "                 [\"label\", \"label\"],\n",
    "                 [['AnnualCrop',' Forest'], ['asd', 'bec']],\n",
    "                 [10000, 1500],\n",
    "                 [12000, 300],\n",
    "                 [5000, None],\n",
    "                 [[123.675, 116.28, 103.53], [119.325, 121.58, 104.53]],\n",
    "                 [[58.395, 57.12, 57.375], [53.124, 56.12, 69.3685]]],\n",
    "                 index= ['# of data', '# categories', 'annotation_type', 'label', 'subset_train', 'subset_val', 'subset_test', 'img_mean', 'img_std'])\n",
    "A.columns = ['src_dataset','tgt_dataset']\n",
    "A.index.names = ['type']\n",
    "A.columns.names= ['group']\n",
    "\n",
    "h = [\"Datum compare\"] + list(A.columns)\n",
    "print(tabulate(A, headers= h, tablefmt= 'grid'))"
   ]
  },
  {
   "cell_type": "code",
   "execution_count": null,
   "id": "b1604e23",
   "metadata": {},
   "outputs": [],
   "source": []
  }
 ],
 "metadata": {
  "kernelspec": {
   "display_name": "Python 3 (ipykernel)",
   "language": "python",
   "name": "python3"
  },
  "language_info": {
   "codemirror_mode": {
    "name": "ipython",
    "version": 3
   },
   "file_extension": ".py",
   "mimetype": "text/x-python",
   "name": "python",
   "nbconvert_exporter": "python",
   "pygments_lexer": "ipython3",
   "version": "3.10.11"
  }
 },
 "nbformat": 4,
 "nbformat_minor": 5
}
